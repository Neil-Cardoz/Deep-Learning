{
  "nbformat": 4,
  "nbformat_minor": 0,
  "metadata": {
    "colab": {
      "provenance": [],
      "authorship_tag": "ABX9TyPyqrdTzyWZ25OVymGmEOKB",
      "include_colab_link": true
    },
    "kernelspec": {
      "name": "python3",
      "display_name": "Python 3"
    },
    "language_info": {
      "name": "python"
    }
  },
  "cells": [
    {
      "cell_type": "markdown",
      "metadata": {
        "id": "view-in-github",
        "colab_type": "text"
      },
      "source": [
        "<a href=\"https://colab.research.google.com/github/Neil-Cardoz/Deep-Learning/blob/main/DLL_LAB_RNN_ARCHITECTURE.ipynb\" target=\"_parent\"><img src=\"https://colab.research.google.com/assets/colab-badge.svg\" alt=\"Open In Colab\"/></a>"
      ]
    },
    {
      "cell_type": "code",
      "source": [
        "import numpy as np\n",
        "\n"
      ],
      "metadata": {
        "id": "2AEILW6ev6BU"
      },
      "execution_count": null,
      "outputs": []
    },
    {
      "cell_type": "code",
      "execution_count": null,
      "metadata": {
        "id": "K5EyE82RtJi-"
      },
      "outputs": [],
      "source": [
        "class RNN:\n",
        "  def __init__(self, input_size, output_size, hidden_size=64):\n",
        "    self.input_size = input_size\n",
        "    self.output_size = output_size\n",
        "    self.hidden_size = hidden_size\n",
        "\n",
        "    # Innitialize Weights\n",
        "    self.Wxh = np.random.randn(hidden_size, hidden_size) * 0.01\n",
        "    self.Whh = np.random.randn(hidden_size, hidden_size) * 0.01\n",
        "    self.Why = np.random.randn(hidden_size, hidden_size) * 0.01\n",
        "\n",
        "    # Innitalize Biases\n",
        "    self.bh = np.zeros((1, hidden_size))\n",
        "    self.by = np.zeros((1, hidden_size))\n",
        "\n",
        "\n",
        "  def forward(self, inputs):\n",
        "    h_prev = np.zeros((self.hidden_size, 1))\n",
        "    self.last_inputs = inputs\n",
        "    self.last_hs = {0: h_prev}\n",
        "\n",
        "\n",
        "    # Forward pass\n",
        "    for i, x in enumerate(inputs):\n",
        "      x = np.reshape(x, (self.input_size, 1))\n",
        "      h = np.tanh(np.dot(self.Wxh, x) + np.dot(self.Whh, h_prev) + self.bh)\n",
        "      self.last_hs[i+1] = h\n",
        "      h_prev = h\n",
        "\n",
        "    # Compute the output\n",
        "    output = np.dot(self.Why, h_prev) + self.by\n",
        "    return output, h_prev\n",
        "\n",
        "def backward(self, learning_rate=0.01):\n",
        "  n = len(self.last_inputs)\n",
        "  d_Why = np.zeros_like(self.Why)\n",
        "  d_Whh = np.zeros_like(self.Whh)\n",
        "  d_Wxh = np.zeros_like(self.Wxh)\n",
        "  d_bh = np.zeros_like(self.bh)\n",
        "  d_by = np.zeros_like(self.by)\n",
        "  d_h = np.dot(self.Why.T, d_y)\n",
        "\n",
        "  for t in reversed(range(n)):\n",
        "    temp = self.last_hs[t+1]\n",
        "    d_Why += np.dot(d_y, temp.T)\n",
        "    d_h_raw = (1 - self.last_hs[t+1] ** 2) * d_h\n",
        "\n",
        "    d_bh += d_h_raw\n",
        "    d_Wxh += np.dot(d_h_raw, self.last_inputs[t].T.reshape(-1, 1))\n",
        "    d_Whh += np.dot(d_h_raw, self.last_hs[t].T)\n",
        "    d_h = np.dot(self.Wxh.T, d_h_raw)\n",
        "\n",
        "\n",
        "    # Update Weights and Biases\n",
        "    self.Why -= learning_rate * d_Why\n",
        "    self.Wxh -= learning_rate * d_Wxh\n",
        "    self.Whh -= learning_rate * d_Whh\n",
        "    self.bh -= learning_rate * d_bh\n",
        "    self.by -= learning_rate * d_by\n",
        "\n",
        "\n",
        "# Example sequence (One hot encoded input)\n",
        "input = [np.array([1,0,0]), np.array([0,1,0]), np.array([0,0,1])]\n",
        "rnn = RNN(input_size=3, hidden_size=3, output_size=2)\n",
        "\n",
        "# Forward Pass\n",
        "output, hidden_state = rnn.forward(input)\n",
        "print(output)\n",
        "\n",
        "# Backward Pass\n",
        "d_y = np.array([[0],[1]])\n",
        "rnn.backward(d_y)\n",
        "\n"
      ]
    }
  ]
}