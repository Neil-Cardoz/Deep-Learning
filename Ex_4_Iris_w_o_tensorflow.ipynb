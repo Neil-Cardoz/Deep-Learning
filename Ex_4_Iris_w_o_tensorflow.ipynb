{
  "cells": [
    {
      "cell_type": "markdown",
      "metadata": {
        "id": "view-in-github",
        "colab_type": "text"
      },
      "source": [
        "<a href=\"https://colab.research.google.com/github/Neil-Cardoz/Deep-Learning/blob/main/Ex_4_Iris_w_o_tensorflow.ipynb\" target=\"_parent\"><img src=\"https://colab.research.google.com/assets/colab-badge.svg\" alt=\"Open In Colab\"/></a>"
      ]
    },
    {
      "cell_type": "markdown",
      "id": "82664117",
      "metadata": {
        "id": "82664117"
      },
      "source": [
        "## Iris without Tensonflow"
      ]
    },
    {
      "cell_type": "code",
      "execution_count": 13,
      "id": "e332ec83",
      "metadata": {
        "id": "e332ec83"
      },
      "outputs": [],
      "source": [
        "# Import necessary libraries\n",
        "import pandas as pd\n",
        "import numpy as np\n",
        "from sklearn.model_selection import train_test_split\n",
        "from sklearn.preprocessing import StandardScaler, LabelBinarizer"
      ]
    },
    {
      "cell_type": "code",
      "execution_count": 14,
      "id": "21cbf2a2",
      "metadata": {
        "id": "21cbf2a2"
      },
      "outputs": [],
      "source": [
        "# Load and Preprocess the Iris dataset\n",
        "data = pd.read_csv('/content/Iris.csv')\n",
        "label_binarizer = LabelBinarizer()\n",
        "y = label_binarizer.fit_transform(data['Species'])\n",
        "X = data.drop(columns=['Id', 'Species'])\n",
        "X_train, X_test, y_train, y_test = train_test_split(X, y, test_size=0.2, random_state=42)\n",
        "scaler = StandardScaler()\n",
        "X_train = scaler.fit_transform(X_train)\n",
        "X_test = scaler.transform(X_test)"
      ]
    },
    {
      "cell_type": "code",
      "execution_count": 15,
      "id": "49eb0939",
      "metadata": {
        "id": "49eb0939"
      },
      "outputs": [],
      "source": [
        "# Initialize network\n",
        "def initialize_network(input_size, hidden_size, output_size):\n",
        "    \"\"\"Initialize a neural network with given sizes for input, hidden, and output layers.\"\"\"\n",
        "    np.random.seed(42)\n",
        "    network = []\n",
        "    layer_sizes = [input_size] + hidden_size + [output_size]\n",
        "    for i in range(len(layer_sizes) - 1):\n",
        "        layer = {\n",
        "            'weights': np.random.randn(layer_sizes[i], layer_sizes[i + 1]) * 0.1,\n",
        "            'biases': np.zeros((1, layer_sizes[i + 1]))\n",
        "        }\n",
        "        network.append(layer)\n",
        "    return network\n",
        "\n",
        "input_size = X_train.shape[1]\n",
        "hidden_size = [8, 8]  # Two hidden layers with 8 neurons each\n",
        "output_size = y_train.shape[1]\n",
        "network = initialize_network(input_size, hidden_size, output_size)"
      ]
    },
    {
      "cell_type": "code",
      "execution_count": 16,
      "id": "d4752785",
      "metadata": {
        "id": "d4752785"
      },
      "outputs": [],
      "source": [
        "# Define Activation Functions\n",
        "def sigmoid(x):\n",
        "    \"\"\"Sigmoid activation function.\"\"\"\n",
        "    return 1 / (1 + np.exp(-x))\n",
        "\n",
        "def sigmoid_derivative(x):\n",
        "    \"\"\"Derivative of the sigmoid function.\"\"\"\n",
        "    return x * (1 - x)\n",
        "\n",
        "# Forward Propagation\n",
        "def forward_propagation(network, inputs):\n",
        "    \"\"\"Perform forward propagation through the network.\"\"\"\n",
        "    activation = inputs\n",
        "    for layer in network:\n",
        "        z = np.dot(activation, layer['weights']) + layer['biases']\n",
        "        activation = sigmoid(z)\n",
        "        layer['activation'] = activation\n",
        "    return activation\n",
        "\n",
        "# Backward Propagation\n",
        "def backward_propagation(network, inputs, targets, learning_rate):\n",
        "    \"\"\"Perform backward propagation and update weights and biases.\"\"\"\n",
        "    forward_propagation(network, inputs)\n",
        "    for i in reversed(range(len(network))):\n",
        "        layer = network[i]\n",
        "        if i == len(network) - 1:\n",
        "            # Output layer\n",
        "            layer['delta'] = (layer['activation'] - targets) * sigmoid_derivative(layer['activation'])\n",
        "        else:\n",
        "            next_layer = network[i + 1]\n",
        "            layer['delta'] = np.dot(next_layer['delta'], next_layer['weights'].T) * sigmoid_derivative(layer['activation'])\n",
        "\n",
        "    for i in range(len(network)):\n",
        "        layer = network[i]\n",
        "        if i == 0:\n",
        "            inputs_to_use = inputs\n",
        "        else:\n",
        "            inputs_to_use = network[i - 1]['activation']\n",
        "        layer['weights'] -= learning_rate * np.dot(inputs_to_use.T, layer['delta'])\n",
        "        layer['biases'] -= learning_rate * np.sum(layer['delta'], axis=0, keepdims=True)"
      ]
    },
    {
      "cell_type": "code",
      "execution_count": 17,
      "id": "a311572b",
      "metadata": {
        "colab": {
          "base_uri": "https://localhost:8080/"
        },
        "id": "a311572b",
        "outputId": "42c29cb5-0c05-4e86-937c-893bf64faa88"
      },
      "outputs": [
        {
          "output_type": "stream",
          "name": "stdout",
          "text": [
            "Epoch 100/1000, Loss: 0.2221\n",
            "Epoch 200/1000, Loss: 0.2218\n",
            "Epoch 300/1000, Loss: 0.2193\n",
            "Epoch 400/1000, Loss: 0.1465\n",
            "Epoch 500/1000, Loss: 0.1103\n",
            "Epoch 600/1000, Loss: 0.1006\n",
            "Epoch 700/1000, Loss: 0.0860\n",
            "Epoch 800/1000, Loss: 0.0557\n",
            "Epoch 900/1000, Loss: 0.0319\n",
            "Epoch 1000/1000, Loss: 0.0222\n"
          ]
        }
      ],
      "source": [
        "# Train the network\n",
        "def train_network(network, inputs, targets, learning_rate, epochs):\n",
        "    \"\"\"Train the neural network using the provided inputs and targets.\"\"\"\n",
        "    for epoch in range(epochs):\n",
        "        backward_propagation(network, inputs, targets, learning_rate)\n",
        "        if (epoch + 1) % 100 == 0:\n",
        "            loss = np.mean(np.square(targets - forward_propagation(network, inputs)))\n",
        "            print(f'Epoch {epoch + 1}/{epochs}, Loss: {loss:.4f}')\n",
        "\n",
        "train_network(network, X_train, y_train, learning_rate=0.01, epochs=1000)"
      ]
    },
    {
      "cell_type": "code",
      "execution_count": 18,
      "id": "89c4d6f8",
      "metadata": {
        "colab": {
          "base_uri": "https://localhost:8080/"
        },
        "id": "89c4d6f8",
        "outputId": "7d126705-0aaa-4644-ddf8-f48fc22a450c"
      },
      "outputs": [
        {
          "output_type": "stream",
          "name": "stdout",
          "text": [
            "Accuracy: 100.00%\n",
            "Predictions: [[4.49070366e-02 8.22723797e-01 7.79783514e-02]\n",
            " [9.49755651e-01 1.09407356e-01 2.26802833e-04]\n",
            " [1.79864403e-03 8.41275167e-02 9.63773509e-01]\n",
            " [2.60789346e-02 7.29036260e-01 1.78066107e-01]\n",
            " [2.58939818e-02 7.41236316e-01 1.75766840e-01]\n",
            " [9.45464797e-01 1.16449562e-01 2.44928989e-04]\n",
            " [1.12655090e-01 8.32611169e-01 2.28829429e-02]\n",
            " [2.76369368e-03 1.33784971e-01 9.23537892e-01]\n",
            " [1.09821778e-02 5.02204349e-01 4.90749820e-01]\n",
            " [7.57347332e-02 8.54113988e-01 3.62939471e-02]\n",
            " [4.72510321e-03 2.34238210e-01 8.20678878e-01]\n",
            " [9.45278613e-01 1.17046566e-01 2.44810121e-04]\n",
            " [9.49598989e-01 1.09869651e-01 2.26919974e-04]\n",
            " [9.46170077e-01 1.15552209e-01 2.41176331e-04]\n",
            " [9.50757520e-01 1.07776342e-01 2.22454753e-04]\n",
            " [3.09241532e-02 7.38776805e-01 1.46872548e-01]\n",
            " [2.27750028e-03 1.08318553e-01 9.45023090e-01]\n",
            " [7.01333284e-02 8.60397598e-01 3.90652790e-02]\n",
            " [3.94606593e-02 8.01957472e-01 9.60532890e-02]\n",
            " [2.24560163e-03 1.06892891e-01 9.46264387e-01]\n",
            " [9.46053856e-01 1.15602331e-01 2.42035999e-04]\n",
            " [7.10451529e-03 3.45432231e-01 6.85757275e-01]\n",
            " [9.45592768e-01 1.16150841e-01 2.44581176e-04]\n",
            " [2.42512717e-03 1.16336276e-01 9.38569042e-01]\n",
            " [4.06944359e-03 1.98528024e-01 8.58874738e-01]\n",
            " [2.51417202e-03 1.20752505e-01 9.34812241e-01]\n",
            " [2.82098991e-03 1.38222044e-01 9.20208733e-01]\n",
            " [2.23530196e-03 1.05924689e-01 9.46900373e-01]\n",
            " [9.41367965e-01 1.23244036e-01 2.61575245e-04]\n",
            " [9.44152405e-01 1.18734221e-01 2.49917650e-04]]\n",
            "Predicted Classes: [1 0 2 1 1 0 1 2 1 1 2 0 0 0 0 1 2 1 1 2 0 2 0 2 2 2 2 2 0 0]\n"
          ]
        }
      ],
      "source": [
        "# Evaluate the network\n",
        "def predict(network, inputs):\n",
        "    \"\"\"Make predictions using the trained network.\"\"\"\n",
        "    outputs = forward_propagation(network, inputs)\n",
        "    return outputs\n",
        "\n",
        "predictions = predict(network, X_test)\n",
        "predicted_classes = np.argmax(predictions, axis=1)\n",
        "true_classes = np.argmax(y_test, axis=1)\n",
        "accuracy = np.mean(predicted_classes == true_classes)\n",
        "print(f'Accuracy: {accuracy * 100:.2f}%')\n",
        "print(f'Predictions: {predictions}')\n",
        "print(f'Predicted Classes: {predicted_classes}')"
      ]
    },
    {
      "cell_type": "code",
      "execution_count": 18,
      "id": "0a813cf2",
      "metadata": {
        "id": "0a813cf2"
      },
      "outputs": [],
      "source": []
    }
  ],
  "metadata": {
    "kernelspec": {
      "display_name": "Python 3",
      "language": "python",
      "name": "python3"
    },
    "language_info": {
      "codemirror_mode": {
        "name": "ipython",
        "version": 3
      },
      "file_extension": ".py",
      "mimetype": "text/x-python",
      "name": "python",
      "nbconvert_exporter": "python",
      "pygments_lexer": "ipython3",
      "version": "3.10.0"
    },
    "colab": {
      "provenance": [],
      "include_colab_link": true
    }
  },
  "nbformat": 4,
  "nbformat_minor": 5
}