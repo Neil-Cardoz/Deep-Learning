{
  "nbformat": 4,
  "nbformat_minor": 0,
  "metadata": {
    "colab": {
      "provenance": [],
      "authorship_tag": "ABX9TyPuEzNIbL2L+ym312oFsIYj"
    },
    "kernelspec": {
      "name": "python3",
      "display_name": "Python 3"
    },
    "language_info": {
      "name": "python"
    }
  },
  "cells": [
    {
      "cell_type": "code",
      "execution_count": 1,
      "metadata": {
        "id": "JaEbk_LzYJcG"
      },
      "outputs": [],
      "source": [
        "import pandas as pd\n",
        "import numpy as np\n",
        "from sklearn.model_selection import train_test_split\n",
        "from sklearn.preprocessing import StandardScaler\n",
        "from sklearn.preprocessing import LabelBinarizer\n",
        "from sklearn.datasets import load_iris\n"
      ]
    },
    {
      "cell_type": "code",
      "source": [
        "data = load_iris()\n",
        "label_binarizer = LabelBinarizer()\n",
        "X = pd.DataFrame(data.data, columns=data.feature_names)\n",
        "y = label_binarizer.fit_transform(data.target)\n",
        "X_train, X_test, y_train, y_test = train_test_split(X, y, test_size=0.2, random_state=42)\n",
        "scalar = StandardScaler()\n",
        "X_train = scalar.fit_transform(X_train)\n",
        "X_test = scalar.transform(X_test)\n"
      ],
      "metadata": {
        "id": "eJnr6qCPYl5V"
      },
      "execution_count": 2,
      "outputs": []
    },
    {
      "cell_type": "code",
      "source": [
        "# Innitialize Network\n",
        "def initialize_network(n_inputs, n_hidden, n_outputs):\n",
        "    np.random.seed(42)\n",
        "    network = []\n",
        "    layer_size = [input_size] + hidden_size + [output_size]\n",
        "    for i in range(len(layer_size) - 1):\n",
        "        layer = {\n",
        "\n",
        "                 'weights' : np.random.randn(layer_size[i], layer_size[i+1])*0.1,\n",
        "                 'bias' : np.zeros((1,layer_size[i+1]))\n",
        "                }\n",
        "        network.append(layer)\n",
        "        return network"
      ],
      "metadata": {
        "id": "Z8nRUWsuY0a1"
      },
      "execution_count": 3,
      "outputs": []
    },
    {
      "cell_type": "code",
      "source": [
        "input_size = X_train.shape[1]\n",
        "hidden_size = [8,8]\n",
        "output_size = y_train.shape[1]\n",
        "network = initialize_network(input_size, hidden_size, output_size)"
      ],
      "metadata": {
        "id": "O8tGS9iBbRKS"
      },
      "execution_count": 4,
      "outputs": []
    },
    {
      "cell_type": "code",
      "source": [
        "# Sigmoid\n",
        "def sigmoid(X):\n",
        "  return 1 / (1 + np.exp(-x))"
      ],
      "metadata": {
        "id": "msiVbDYSbfiQ"
      },
      "execution_count": 5,
      "outputs": []
    },
    {
      "cell_type": "code",
      "source": [
        "# Sigmoid derrivative\n",
        "def sigmoid_derivative(x):\n",
        "  return x * (1 - x)"
      ],
      "metadata": {
        "id": "m2h2ebT-eAGN"
      },
      "execution_count": 6,
      "outputs": []
    },
    {
      "cell_type": "code",
      "source": [
        "# Forward propagation\n",
        "def forward_prop(network, input):\n",
        "  activation = input\n",
        "  for layer in network:\n",
        "    z = np.dot(activation, layer['weights']) + layer['bias']\n",
        "    activations = sigmoid(z)\n",
        "\n",
        "\n",
        "  return activations\n",
        ""
      ],
      "metadata": {
        "id": "KO-Pfl2aclrV"
      },
      "execution_count": 7,
      "outputs": []
    },
    {
      "cell_type": "code",
      "source": [
        "def backward_propagation(network, inputs, targets, learning_rate):\n",
        "  forward_prop(network, input)\n",
        "  for i in reversed(range(len(network))):\n",
        "    layer = network[i]\n",
        "    if i == len(network) - 1:\n",
        "      layer['delta'] = (layer['output'] - targets) * sigmoid_derivative(layer['output'])\n",
        "    else:\n",
        "      next_layer = network[i+1]\n",
        "      layer['delta'] = np.dot(next_layer['delta'], next_layer['weights'].T) * sigmoid_derivative(layer['activations'])\n",
        "    for i in range(len(network)):\n",
        "      layer = network[i]\n",
        "      if i == 0:\n",
        "        input_to_use = inputs\n",
        "      else:\n",
        "        input_to_use = network[i-1]['activations']\n",
        "      layer['weights'] -= learning_rate * np.dot(input_to_use.T, layer['delta'])\n",
        "      layer['biases'] -= learning_rate * np.sum(layer['delta'], axis=0, keepdims=True)"
      ],
      "metadata": {
        "id": "lGyFbfgvcltf"
      },
      "execution_count": 8,
      "outputs": []
    },
    {
      "cell_type": "code",
      "source": [
        "# Train the network\n",
        "def train_network(network, inputs, targets, learning_rate, epochs):\n",
        "  for epoch in range(epochs):\n",
        "    backward_propagation(network, inputs, targets, learning_rate)\n",
        "    if (epoch + 1) % 100 == 0:\n",
        "      loss = np.mean(np.square(targets - forward_prop(network, inputs)))\n",
        "      print(f\"Epoch {epoch + 1}/{epochs}, Loss: {loss:.4f}\")\n",
        "\n",
        "\n",
        "train_network(network, X_train, y_train, learning_rate=0.1, epochs=1000)\n",
        "\n"
      ],
      "metadata": {
        "id": "Jbxhs5ymclvw"
      },
      "execution_count": 9,
      "outputs": []
    },
    {
      "cell_type": "code",
      "source": [
        "# Evaluate the network\n",
        "def predict(network, input):\n",
        "  output = forward_prop(network, input)\n",
        "  return np.argmax(output)"
      ],
      "metadata": {
        "id": "IbHOHLUvclxt"
      },
      "execution_count": null,
      "outputs": []
    },
    {
      "cell_type": "code",
      "source": [
        "predictions = []\n",
        "for i in range(len(X_test)):\n",
        "  prediction = predict(network, X_test[i])\n",
        "  predictions.append(prediction)"
      ],
      "metadata": {
        "id": "mq30K62Oclzp"
      },
      "execution_count": null,
      "outputs": []
    },
    {
      "cell_type": "code",
      "source": [],
      "metadata": {
        "id": "aPzoDUiocl23"
      },
      "execution_count": null,
      "outputs": []
    }
  ]
}